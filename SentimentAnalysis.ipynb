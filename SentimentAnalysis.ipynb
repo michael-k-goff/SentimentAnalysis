{
 "cells": [
  {
   "cell_type": "code",
   "execution_count": 1,
   "id": "5a2384a3",
   "metadata": {},
   "outputs": [],
   "source": [
    "import pandas as pd\n",
    "import numpy as np\n",
    "import seaborn as sns\n",
    "import re\n",
    "\n",
    "# nltk is the Natural Language Toolkit. It is a set of libaries to aid with natural language processing\n",
    "from nltk.tokenize import word_tokenize, sent_tokenize\n",
    "from nltk.corpus import stopwords, opinion_lexicon\n",
    "from nltk.stem.snowball import SnowballStemmer\n",
    "from nltk.stem import WordNetLemmatizer\n",
    "import nltk"
   ]
  },
  {
   "cell_type": "code",
   "execution_count": 2,
   "id": "48eb6037",
   "metadata": {},
   "outputs": [
    {
     "name": "stderr",
     "output_type": "stream",
     "text": [
      "[nltk_data] Downloading package omw-1.4 to\n",
      "[nltk_data]     C:\\Users\\micha\\AppData\\Roaming\\nltk_data...\n",
      "[nltk_data]   Package omw-1.4 is already up-to-date!\n"
     ]
    },
    {
     "data": {
      "text/plain": [
       "True"
      ]
     },
     "execution_count": 2,
     "metadata": {},
     "output_type": "execute_result"
    }
   ],
   "source": [
    "nltk.download('omw-1.4') # Open Multilingual Wordnet"
   ]
  },
  {
   "cell_type": "code",
   "execution_count": 3,
   "id": "29a84a12",
   "metadata": {},
   "outputs": [
    {
     "name": "stderr",
     "output_type": "stream",
     "text": [
      "[nltk_data] Downloading package punkt to\n",
      "[nltk_data]     C:\\Users\\micha\\AppData\\Roaming\\nltk_data...\n",
      "[nltk_data]   Package punkt is already up-to-date!\n"
     ]
    },
    {
     "data": {
      "text/plain": [
       "True"
      ]
     },
     "execution_count": 3,
     "metadata": {},
     "output_type": "execute_result"
    }
   ],
   "source": [
    "# Sentence tokenizer. A tokenizer divides text into a list of sentences.\n",
    "# This module is smart enough to distinguish between periods that demark sentences and\n",
    "# other periods, such as in Mr. Smith. It also recognizes that sentences don't always start with capital letters.\n",
    "nltk.download('punkt')"
   ]
  },
  {
   "cell_type": "code",
   "execution_count": 4,
   "id": "61780692",
   "metadata": {},
   "outputs": [
    {
     "name": "stderr",
     "output_type": "stream",
     "text": [
      "[nltk_data] Downloading package stopwords to\n",
      "[nltk_data]     C:\\Users\\micha\\AppData\\Roaming\\nltk_data...\n",
      "[nltk_data]   Package stopwords is already up-to-date!\n"
     ]
    },
    {
     "data": {
      "text/plain": [
       "True"
      ]
     },
     "execution_count": 4,
     "metadata": {},
     "output_type": "execute_result"
    }
   ],
   "source": [
    "# Stopwords module. Stopwords are common words such as \"the\" and \"and\" that convey little information\n",
    "# and often should be stripped out of text before machine learning is performed.\n",
    "nltk.download('stopwords')"
   ]
  },
  {
   "cell_type": "code",
   "execution_count": 5,
   "id": "bd7c0848",
   "metadata": {},
   "outputs": [
    {
     "name": "stderr",
     "output_type": "stream",
     "text": [
      "[nltk_data] Downloading package wordnet to\n",
      "[nltk_data]     C:\\Users\\micha\\AppData\\Roaming\\nltk_data...\n",
      "[nltk_data]   Package wordnet is already up-to-date!\n"
     ]
    },
    {
     "data": {
      "text/plain": [
       "True"
      ]
     },
     "execution_count": 5,
     "metadata": {},
     "output_type": "execute_result"
    }
   ],
   "source": [
    "nltk.download('wordnet') # WordNet module."
   ]
  },
  {
   "cell_type": "code",
   "execution_count": 6,
   "id": "233384f4",
   "metadata": {},
   "outputs": [
    {
     "name": "stderr",
     "output_type": "stream",
     "text": [
      "[nltk_data] Downloading package opinion_lexicon to\n",
      "[nltk_data]     C:\\Users\\micha\\AppData\\Roaming\\nltk_data...\n",
      "[nltk_data]   Package opinion_lexicon is already up-to-date!\n"
     ]
    },
    {
     "data": {
      "text/plain": [
       "True"
      ]
     },
     "execution_count": 6,
     "metadata": {},
     "output_type": "execute_result"
    }
   ],
   "source": [
    "# nltk's opinion lexicon is a classification of positive and negative words.\n",
    "# It is a built-in tool to help with sentiment analysis.\n",
    "nltk.download('opinion_lexicon')"
   ]
  },
  {
   "cell_type": "code",
   "execution_count": 7,
   "id": "f570a619",
   "metadata": {},
   "outputs": [],
   "source": [
    "# The dataset is a collection of comments from a Facebook depression and anxiety group.\n",
    "# Our goal is to classify them as positive and negative sentiment.\n",
    "data=pd.read_excel('sentiment20230525/Depression & Anxiety Facebook page Comments Text.xlsx')"
   ]
  },
  {
   "cell_type": "code",
   "execution_count": 8,
   "id": "14256a1b",
   "metadata": {},
   "outputs": [],
   "source": [
    "# We prepare a clean set of comments with two transformations.\n",
    "# 1) Stopwords are removed, as they convey little useful information about sentiment\n",
    "# 2) Words are lemmatized, which means they are converted to base forms.\n",
    "# Lemmatization is different from stemming and typically more intelligent and more considerate of context.\n",
    "\n",
    "stopword = stopwords.words(\"english\")\n",
    "lem=WordNetLemmatizer()\n",
    "\n",
    "def remove(x):\n",
    "    # Strip out numbers and punctuation, regularize the spacing.\n",
    "    # The following does not affect capitalization.\n",
    "    x=re.sub(\"[^A-z\" \"]+\",\" \",x)\n",
    "    s=\"\"\n",
    "    for i in x.split():\n",
    "        if i not in stopword:\n",
    "            i=lem.lemmatize(word=i)\n",
    "            s=s+\" \"+i\n",
    "    return s\n",
    "\n",
    "data[\"Comments_clean\"] = data[\"Comments Text\"].apply(remove)"
   ]
  },
  {
   "cell_type": "code",
   "execution_count": 9,
   "id": "dcd48ccb",
   "metadata": {},
   "outputs": [
    {
     "name": "stdout",
     "output_type": "stream",
     "text": [
      "cats: cat\n",
      "Cats: Cats\n",
      "caring: caring\n",
      "caring (as a verb): care\n"
     ]
    }
   ],
   "source": [
    "# Some demonstration of nltk's lemmatizer\n",
    "\n",
    "print(\"cats:\",lem.lemmatize(word=\"cats\"))\n",
    "print(\"Cats:\",lem.lemmatize(word=\"Cats\")) # Capital letters trip up the lemmatizer\n",
    "print(\"caring:\",lem.lemmatize(word=\"caring\")) # By default, it handles nouns.\n",
    "print(\"caring (as a verb):\",lem.lemmatize(\"caring\",\"v\"))"
   ]
  },
  {
   "cell_type": "code",
   "execution_count": 10,
   "id": "794baf53",
   "metadata": {},
   "outputs": [
    {
     "data": {
      "text/plain": [
       "' So ask two illness similar tend moodiness involved impulsivity self damaging behavior compensatory measure Otherwise really similar seem like one another often show person making life chaotic difficult dysfunctional intense So friend concerned may one illness ashamed It definitely fault They instead get help professional INSIST treated appropriately correct type therapy medication'"
      ]
     },
     "execution_count": 10,
     "metadata": {},
     "output_type": "execute_result"
    }
   ],
   "source": [
    "# An example of a comment after processing.\n",
    "data[\"Comments_clean\"][0]"
   ]
  },
  {
   "cell_type": "code",
   "execution_count": 11,
   "id": "3e379d2b",
   "metadata": {},
   "outputs": [],
   "source": [
    "# Valent Aware Dictionary and sEntiment Reasoner\n",
    "# See https://github.com/cjhutto/vaderSentiment\n",
    "#pip install vaderSentiment"
   ]
  },
  {
   "cell_type": "code",
   "execution_count": 12,
   "id": "61bd3a6d",
   "metadata": {},
   "outputs": [],
   "source": [
    "from vaderSentiment.vaderSentiment import SentimentIntensityAnalyzer"
   ]
  },
  {
   "cell_type": "code",
   "execution_count": 13,
   "id": "bc14427f",
   "metadata": {},
   "outputs": [],
   "source": [
    "vs = SentimentIntensityAnalyzer()"
   ]
  },
  {
   "cell_type": "code",
   "execution_count": 14,
   "id": "9c29df6b",
   "metadata": {},
   "outputs": [
    {
     "data": {
      "text/plain": [
       "'grinning face'"
      ]
     },
     "execution_count": 14,
     "metadata": {},
     "output_type": "execute_result"
    }
   ],
   "source": [
    "# VADER can process emojis.\n",
    "vs.emojis['😀']"
   ]
  },
  {
   "cell_type": "code",
   "execution_count": 15,
   "id": "711bcd0e",
   "metadata": {},
   "outputs": [
    {
     "data": {
      "text/plain": [
       "{'neg': 0.309, 'neu': 0.586, 'pos': 0.105, 'compound': -0.9905}"
      ]
     },
     "execution_count": 15,
     "metadata": {},
     "output_type": "execute_result"
    }
   ],
   "source": [
    "# VADER is an out-of-the-box sentiment classifier trained specifically on social media.\n",
    "# Here is an example.\n",
    "vs.polarity_scores(data[\"Comments_clean\"][3])"
   ]
  },
  {
   "cell_type": "code",
   "execution_count": 16,
   "id": "c442c2f5",
   "metadata": {},
   "outputs": [
    {
     "data": {
      "text/plain": [
       "{'neg': 0.303, 'neu': 0.517, 'pos': 0.18}"
      ]
     },
     "execution_count": 16,
     "metadata": {},
     "output_type": "execute_result"
    }
   ],
   "source": [
    "# Here is another example.\n",
    "d=vs.polarity_scores(data[\"Comments_clean\"][0])\n",
    "d.pop(\"compound\")\n",
    "d"
   ]
  },
  {
   "cell_type": "code",
   "execution_count": 17,
   "id": "5f9b624b",
   "metadata": {},
   "outputs": [],
   "source": [
    "# 'compound' is the positive minus the negative values. The bigger it is, the more positive VADER assesses the sentence.\n",
    "def polarity(sent):\n",
    "    d=vs.polarity_scores(sent)\n",
    "    if d[\"compound\"]>0.05:\n",
    "        return \"positive\"\n",
    "    elif d[\"compound\"]<-0.05:\n",
    "        return \"negative\"\n",
    "    else:\n",
    "        return \"neutral\"\n"
   ]
  },
  {
   "cell_type": "code",
   "execution_count": 18,
   "id": "839e244b",
   "metadata": {},
   "outputs": [
    {
     "data": {
      "text/html": [
       "<div>\n",
       "<style scoped>\n",
       "    .dataframe tbody tr th:only-of-type {\n",
       "        vertical-align: middle;\n",
       "    }\n",
       "\n",
       "    .dataframe tbody tr th {\n",
       "        vertical-align: top;\n",
       "    }\n",
       "\n",
       "    .dataframe thead th {\n",
       "        text-align: right;\n",
       "    }\n",
       "</style>\n",
       "<table border=\"1\" class=\"dataframe\">\n",
       "  <thead>\n",
       "    <tr style=\"text-align: right;\">\n",
       "      <th></th>\n",
       "      <th>Comments Text</th>\n",
       "      <th>Comments_clean</th>\n",
       "      <th>Target</th>\n",
       "    </tr>\n",
       "  </thead>\n",
       "  <tbody>\n",
       "    <tr>\n",
       "      <th>0</th>\n",
       "      <td>So, when you ask what the two illnesses are......</td>\n",
       "      <td>So ask two illness similar tend moodiness inv...</td>\n",
       "      <td>negative</td>\n",
       "    </tr>\n",
       "    <tr>\n",
       "      <th>1</th>\n",
       "      <td>In addition, people with BPD quite often have ...</td>\n",
       "      <td>In addition people BPD quite often weak self ...</td>\n",
       "      <td>negative</td>\n",
       "    </tr>\n",
       "    <tr>\n",
       "      <th>2</th>\n",
       "      <td>Borderline Personality Disorder, like all othe...</td>\n",
       "      <td>Borderline Personality Disorder like personal...</td>\n",
       "      <td>negative</td>\n",
       "    </tr>\n",
       "    <tr>\n",
       "      <th>3</th>\n",
       "      <td>LONG ANSWER: Bipolar disease is caused by a ch...</td>\n",
       "      <td>LONG ANSWER Bipolar disease caused chemical i...</td>\n",
       "      <td>negative</td>\n",
       "    </tr>\n",
       "    <tr>\n",
       "      <th>4</th>\n",
       "      <td>Well think of bipolar as a rollar coaster you ...</td>\n",
       "      <td>Well think bipolar rollar coaster high low pe...</td>\n",
       "      <td>negative</td>\n",
       "    </tr>\n",
       "  </tbody>\n",
       "</table>\n",
       "</div>"
      ],
      "text/plain": [
       "                                       Comments Text  \\\n",
       "0  So, when you ask what the two illnesses are......   \n",
       "1  In addition, people with BPD quite often have ...   \n",
       "2  Borderline Personality Disorder, like all othe...   \n",
       "3  LONG ANSWER: Bipolar disease is caused by a ch...   \n",
       "4  Well think of bipolar as a rollar coaster you ...   \n",
       "\n",
       "                                      Comments_clean    Target  \n",
       "0   So ask two illness similar tend moodiness inv...  negative  \n",
       "1   In addition people BPD quite often weak self ...  negative  \n",
       "2   Borderline Personality Disorder like personal...  negative  \n",
       "3   LONG ANSWER Bipolar disease caused chemical i...  negative  \n",
       "4   Well think bipolar rollar coaster high low pe...  negative  "
      ]
     },
     "execution_count": 18,
     "metadata": {},
     "output_type": "execute_result"
    }
   ],
   "source": [
    "data[\"Target\"] = data[\"Comments_clean\"].apply(polarity)\n",
    "data.head()"
   ]
  },
  {
   "cell_type": "code",
   "execution_count": 19,
   "id": "31c83f8e",
   "metadata": {},
   "outputs": [
    {
     "data": {
      "text/plain": [
       "negative    4038\n",
       "positive    2925\n",
       "neutral      182\n",
       "Name: Target, dtype: int64"
      ]
     },
     "execution_count": 19,
     "metadata": {},
     "output_type": "execute_result"
    }
   ],
   "source": [
    "# As one might guess, negative statements outweigh the positive. A minority are classified as neutral.\n",
    "data.Target.value_counts()"
   ]
  },
  {
   "cell_type": "code",
   "execution_count": 20,
   "id": "3e7d4dc3",
   "metadata": {},
   "outputs": [],
   "source": [
    "# After doing some preprocessing, save the data as an intermediate file.\n",
    "data.to_csv(\"New_7k_clean_data.csv\",index=False)"
   ]
  },
  {
   "cell_type": "markdown",
   "id": "3972e834",
   "metadata": {},
   "source": [
    "# Machine Learning"
   ]
  },
  {
   "cell_type": "code",
   "execution_count": 21,
   "id": "550fa1d6",
   "metadata": {
    "scrolled": true
   },
   "outputs": [
    {
     "data": {
      "text/html": [
       "<div>\n",
       "<style scoped>\n",
       "    .dataframe tbody tr th:only-of-type {\n",
       "        vertical-align: middle;\n",
       "    }\n",
       "\n",
       "    .dataframe tbody tr th {\n",
       "        vertical-align: top;\n",
       "    }\n",
       "\n",
       "    .dataframe thead th {\n",
       "        text-align: right;\n",
       "    }\n",
       "</style>\n",
       "<table border=\"1\" class=\"dataframe\">\n",
       "  <thead>\n",
       "    <tr style=\"text-align: right;\">\n",
       "      <th></th>\n",
       "      <th>Comments Text</th>\n",
       "      <th>Comments_clean</th>\n",
       "      <th>Target</th>\n",
       "    </tr>\n",
       "  </thead>\n",
       "  <tbody>\n",
       "    <tr>\n",
       "      <th>0</th>\n",
       "      <td>So, when you ask what the two illnesses are......</td>\n",
       "      <td>So ask two illness similar tend moodiness inv...</td>\n",
       "      <td>negative</td>\n",
       "    </tr>\n",
       "    <tr>\n",
       "      <th>1</th>\n",
       "      <td>In addition, people with BPD quite often have ...</td>\n",
       "      <td>In addition people BPD quite often weak self ...</td>\n",
       "      <td>negative</td>\n",
       "    </tr>\n",
       "    <tr>\n",
       "      <th>2</th>\n",
       "      <td>Borderline Personality Disorder, like all othe...</td>\n",
       "      <td>Borderline Personality Disorder like personal...</td>\n",
       "      <td>negative</td>\n",
       "    </tr>\n",
       "    <tr>\n",
       "      <th>3</th>\n",
       "      <td>LONG ANSWER: Bipolar disease is caused by a ch...</td>\n",
       "      <td>LONG ANSWER Bipolar disease caused chemical i...</td>\n",
       "      <td>negative</td>\n",
       "    </tr>\n",
       "    <tr>\n",
       "      <th>4</th>\n",
       "      <td>Well think of bipolar as a rollar coaster you ...</td>\n",
       "      <td>Well think bipolar rollar coaster high low pe...</td>\n",
       "      <td>negative</td>\n",
       "    </tr>\n",
       "  </tbody>\n",
       "</table>\n",
       "</div>"
      ],
      "text/plain": [
       "                                       Comments Text  \\\n",
       "0  So, when you ask what the two illnesses are......   \n",
       "1  In addition, people with BPD quite often have ...   \n",
       "2  Borderline Personality Disorder, like all othe...   \n",
       "3  LONG ANSWER: Bipolar disease is caused by a ch...   \n",
       "4  Well think of bipolar as a rollar coaster you ...   \n",
       "\n",
       "                                      Comments_clean    Target  \n",
       "0   So ask two illness similar tend moodiness inv...  negative  \n",
       "1   In addition people BPD quite often weak self ...  negative  \n",
       "2   Borderline Personality Disorder like personal...  negative  \n",
       "3   LONG ANSWER Bipolar disease caused chemical i...  negative  \n",
       "4   Well think bipolar rollar coaster high low pe...  negative  "
      ]
     },
     "execution_count": 21,
     "metadata": {},
     "output_type": "execute_result"
    }
   ],
   "source": [
    "data_new = pd.read_csv(\"New_7k_clean_data.csv\")\n",
    "data_new.head()"
   ]
  },
  {
   "cell_type": "code",
   "execution_count": 22,
   "id": "fe209ee4",
   "metadata": {},
   "outputs": [
    {
     "data": {
      "text/plain": [
       "<Axes: xlabel='Target', ylabel='count'>"
      ]
     },
     "execution_count": 22,
     "metadata": {},
     "output_type": "execute_result"
    },
    {
     "data": {
      "image/png": "[encoded data removed]",
      "text/plain": [
       "<Figure size 640x480 with 1 Axes>"
      ]
     },
     "metadata": {},
     "output_type": "display_data"
    }
   ],
   "source": [
    "# Based on our classification, few of the posts are neutral.\n",
    "sns.countplot(x=data_new.Target, data=data_new)"
   ]
  },
  {
   "cell_type": "code",
   "execution_count": 23,
   "id": "3ae010b1",
   "metadata": {},
   "outputs": [],
   "source": [
    "data_new.drop(columns=\"Comments Text\",inplace=True)"
   ]
  },
  {
   "cell_type": "code",
   "execution_count": 24,
   "id": "c49cdf80",
   "metadata": {},
   "outputs": [],
   "source": [
    "from sklearn.feature_extraction.text import CountVectorizer"
   ]
  },
  {
   "cell_type": "code",
   "execution_count": 25,
   "id": "3549e006",
   "metadata": {},
   "outputs": [],
   "source": [
    "# The count vectorizer converts sentences into arrays, counting the number of times each word appears in a corpus.\n",
    "# The 'lowercase' option coverts all words to lower case before vectorizing.\n",
    "cv = CountVectorizer(lowercase=True)"
   ]
  },
  {
   "cell_type": "code",
   "execution_count": 26,
   "id": "a4c74ca7",
   "metadata": {},
   "outputs": [
    {
     "data": {
      "text/plain": [
       "(7145, 13211)"
      ]
     },
     "execution_count": 26,
     "metadata": {},
     "output_type": "execute_result"
    }
   ],
   "source": [
    "# There are 13211 words in the corpus\n",
    "data_array = cv.fit_transform(data_new.Comments_clean).toarray()\n",
    "data_array.shape"
   ]
  },
  {
   "cell_type": "code",
   "execution_count": 27,
   "id": "c9f0aa3a",
   "metadata": {},
   "outputs": [
    {
     "data": {
      "text/plain": [
       "array([0, 0, 0, ..., 0, 0, 0], dtype=int64)"
      ]
     },
     "execution_count": 27,
     "metadata": {},
     "output_type": "execute_result"
    }
   ],
   "source": [
    "# Due to the large number of distinct words in the corpus, comments are portrayed by sparse vectors.\n",
    "data_array[0]"
   ]
  },
  {
   "cell_type": "code",
   "execution_count": 28,
   "id": "b19ddede",
   "metadata": {},
   "outputs": [],
   "source": [
    "import numpy as np"
   ]
  },
  {
   "cell_type": "code",
   "execution_count": 29,
   "id": "be70d86d",
   "metadata": {},
   "outputs": [
    {
     "name": "stdout",
     "output_type": "stream",
     "text": [
      "[0 1 2]\n",
      "[0 1 2 3 4 5 6 7]\n",
      "[ 0  1  2  3  4  5  6  7  8 11]\n",
      "[0 1 2 3 4]\n",
      "[0 1 2]\n",
      "[0 1]\n",
      "[0 1 2 4]\n",
      "[0 1]\n",
      "[0 1 2 3 4 5]\n",
      "[0 1 2 3]\n"
     ]
    }
   ],
   "source": [
    "# This potrays unique word counts in the vectors.\n",
    "# For example, in the first comment (vectorized as data_array[0]), there are words that appear 0 times,\n",
    "# words that appear 1 time, and words that appear 2 times.\n",
    "for i in range(10):\n",
    "    print(np.unique(data_array[i]))"
   ]
  },
  {
   "cell_type": "code",
   "execution_count": 30,
   "id": "69819d7f",
   "metadata": {},
   "outputs": [],
   "source": [
    "from sklearn.ensemble import RandomForestClassifier\n",
    "from sklearn.model_selection import train_test_split\n",
    "from sklearn.metrics import confusion_matrix, accuracy_score, classification_report"
   ]
  },
  {
   "cell_type": "code",
   "execution_count": 31,
   "id": "b853f260",
   "metadata": {},
   "outputs": [],
   "source": [
    "# Train test split for model training and evaluation. 10% of the examples will be in the test set.\n",
    "# The random_state ensures that the split will be the same on every run.\n",
    "x, x_test, y, y_test = train_test_split(data_array, data_new.Target, random_state=42, test_size=0.1)"
   ]
  },
  {
   "cell_type": "code",
   "execution_count": 32,
   "id": "d2cb6949",
   "metadata": {},
   "outputs": [
    {
     "data": {
      "text/plain": [
       "[(6430, 13211), (715, 13211)]"
      ]
     },
     "execution_count": 32,
     "metadata": {},
     "output_type": "execute_result"
    }
   ],
   "source": [
    "[x.shape, x_test.shape]"
   ]
  },
  {
   "cell_type": "code",
   "execution_count": 33,
   "id": "69316321",
   "metadata": {},
   "outputs": [],
   "source": [
    "rf = RandomForestClassifier()"
   ]
  },
  {
   "cell_type": "code",
   "execution_count": 34,
   "id": "baf40aa9",
   "metadata": {},
   "outputs": [
    {
     "data": {
      "text/html": [
       "<style>#sk-container-id-1 {color: black;background-color: white;}#sk-container-id-1 pre{padding: 0;}#sk-container-id-1 div.sk-toggleable {background-color: white;}#sk-container-id-1 label.sk-toggleable__label {cursor: pointer;display: block;width: 100%;margin-bottom: 0;padding: 0.3em;box-sizing: border-box;text-align: center;}#sk-container-id-1 label.sk-toggleable__label-arrow:before {content: \"▸\";float: left;margin-right: 0.25em;color: #696969;}#sk-container-id-1 label.sk-toggleable__label-arrow:hover:before {color: black;}#sk-container-id-1 div.sk-estimator:hover label.sk-toggleable__label-arrow:before {color: black;}#sk-container-id-1 div.sk-toggleable__content {max-height: 0;max-width: 0;overflow: hidden;text-align: left;background-color: #f0f8ff;}#sk-container-id-1 div.sk-toggleable__content pre {margin: 0.2em;color: black;border-radius: 0.25em;background-color: #f0f8ff;}#sk-container-id-1 input.sk-toggleable__control:checked~div.sk-toggleable__content {max-height: 200px;max-width: 100%;overflow: auto;}#sk-container-id-1 input.sk-toggleable__control:checked~label.sk-toggleable__label-arrow:before {content: \"▾\";}#sk-container-id-1 div.sk-estimator input.sk-toggleable__control:checked~label.sk-toggleable__label {background-color: #d4ebff;}#sk-container-id-1 div.sk-label input.sk-toggleable__control:checked~label.sk-toggleable__label {background-color: #d4ebff;}#sk-container-id-1 input.sk-hidden--visually {border: 0;clip: rect(1px 1px 1px 1px);clip: rect(1px, 1px, 1px, 1px);height: 1px;margin: -1px;overflow: hidden;padding: 0;position: absolute;width: 1px;}#sk-container-id-1 div.sk-estimator {font-family: monospace;background-color: #f0f8ff;border: 1px dotted black;border-radius: 0.25em;box-sizing: border-box;margin-bottom: 0.5em;}#sk-container-id-1 div.sk-estimator:hover {background-color: #d4ebff;}#sk-container-id-1 div.sk-parallel-item::after {content: \"\";width: 100%;border-bottom: 1px solid gray;flex-grow: 1;}#sk-container-id-1 div.sk-label:hover label.sk-toggleable__label {background-color: #d4ebff;}#sk-container-id-1 div.sk-serial::before {content: \"\";position: absolute;border-left: 1px solid gray;box-sizing: border-box;top: 0;bottom: 0;left: 50%;z-index: 0;}#sk-container-id-1 div.sk-serial {display: flex;flex-direction: column;align-items: center;background-color: white;padding-right: 0.2em;padding-left: 0.2em;position: relative;}#sk-container-id-1 div.sk-item {position: relative;z-index: 1;}#sk-container-id-1 div.sk-parallel {display: flex;align-items: stretch;justify-content: center;background-color: white;position: relative;}#sk-container-id-1 div.sk-item::before, #sk-container-id-1 div.sk-parallel-item::before {content: \"\";position: absolute;border-left: 1px solid gray;box-sizing: border-box;top: 0;bottom: 0;left: 50%;z-index: -1;}#sk-container-id-1 div.sk-parallel-item {display: flex;flex-direction: column;z-index: 1;position: relative;background-color: white;}#sk-container-id-1 div.sk-parallel-item:first-child::after {align-self: flex-end;width: 50%;}#sk-container-id-1 div.sk-parallel-item:last-child::after {align-self: flex-start;width: 50%;}#sk-container-id-1 div.sk-parallel-item:only-child::after {width: 0;}#sk-container-id-1 div.sk-dashed-wrapped {border: 1px dashed gray;margin: 0 0.4em 0.5em 0.4em;box-sizing: border-box;padding-bottom: 0.4em;background-color: white;}#sk-container-id-1 div.sk-label label {font-family: monospace;font-weight: bold;display: inline-block;line-height: 1.2em;}#sk-container-id-1 div.sk-label-container {text-align: center;}#sk-container-id-1 div.sk-container {/* jupyter's `normalize.less` sets `[hidden] { display: none; }` but bootstrap.min.css set `[hidden] { display: none !important; }` so we also need the `!important` here to be able to override the default hidden behavior on the sphinx rendered scikit-learn.org. See: https://github.com/scikit-learn/scikit-learn/issues/21755 */display: inline-block !important;position: relative;}#sk-container-id-1 div.sk-text-repr-fallback {display: none;}</style><div id=\"sk-container-id-1\" class=\"sk-top-container\"><div class=\"sk-text-repr-fallback\"><pre>RandomForestClassifier()</pre><b>In a Jupyter environment, please rerun this cell to show the HTML representation or trust the notebook. <br />On GitHub, the HTML representation is unable to render, please try loading this page with nbviewer.org.</b></div><div class=\"sk-container\" hidden><div class=\"sk-item\"><div class=\"sk-estimator sk-toggleable\"><input class=\"sk-toggleable__control sk-hidden--visually\" id=\"sk-estimator-id-1\" type=\"checkbox\" checked><label for=\"sk-estimator-id-1\" class=\"sk-toggleable__label sk-toggleable__label-arrow\">RandomForestClassifier</label><div class=\"sk-toggleable__content\"><pre>RandomForestClassifier()</pre></div></div></div></div></div>"
      ],
      "text/plain": [
       "RandomForestClassifier()"
      ]
     },
     "execution_count": 34,
     "metadata": {},
     "output_type": "execute_result"
    }
   ],
   "source": [
    "rf.fit(x,y)"
   ]
  },
  {
   "cell_type": "code",
   "execution_count": 35,
   "id": "95fff10a",
   "metadata": {},
   "outputs": [],
   "source": [
    "pred=rf.predict(x_test)"
   ]
  },
  {
   "cell_type": "code",
   "execution_count": 36,
   "id": "5444d1cc",
   "metadata": {},
   "outputs": [
    {
     "data": {
      "text/plain": [
       "76.92307692307693"
      ]
     },
     "execution_count": 36,
     "metadata": {},
     "output_type": "execute_result"
    }
   ],
   "source": [
    "# This shows ~77% accuracy for the random forest classifier to predict the sentiment label\n",
    "# that was assigned by VADER.\n",
    "accuracy_score(y_test, pred)*100"
   ]
  },
  {
   "cell_type": "code",
   "execution_count": 37,
   "id": "1a07ef41",
   "metadata": {},
   "outputs": [
    {
     "name": "stdout",
     "output_type": "stream",
     "text": [
      "              precision    recall  f1-score   support\n",
      "\n",
      "    negative       0.80      0.83      0.81       407\n",
      "     neutral       0.67      0.10      0.17        21\n",
      "    positive       0.73      0.73      0.73       287\n",
      "\n",
      "    accuracy                           0.77       715\n",
      "   macro avg       0.73      0.55      0.57       715\n",
      "weighted avg       0.77      0.77      0.76       715\n",
      "\n"
     ]
    }
   ],
   "source": [
    "print(classification_report(y_test, pred))"
   ]
  },
  {
   "cell_type": "code",
   "execution_count": 38,
   "id": "ddd1db16",
   "metadata": {},
   "outputs": [
    {
     "data": {
      "text/plain": [
       "array([[339,   0,  68],\n",
       "       [  9,   2,  10],\n",
       "       [ 77,   1, 209]], dtype=int64)"
      ]
     },
     "execution_count": 38,
     "metadata": {},
     "output_type": "execute_result"
    }
   ],
   "source": [
    "# As might be expected, the classifier has poor recall, though decent precision, with neutral comments.\n",
    "confusion_matrix(y_test, pred)"
   ]
  }
 ],
 "metadata": {
  "kernelspec": {
   "display_name": "Python 3 (ipykernel)",
   "language": "python",
   "name": "python3"
  },
  "language_info": {
   "codemirror_mode": {
    "name": "ipython",
    "version": 3
   },
   "file_extension": ".py",
   "mimetype": "text/x-python",
   "name": "python",
   "nbconvert_exporter": "python",
   "pygments_lexer": "ipython3",
   "version": "3.10.9"
  }
 },
 "nbformat": 4,
 "nbformat_minor": 5
}
